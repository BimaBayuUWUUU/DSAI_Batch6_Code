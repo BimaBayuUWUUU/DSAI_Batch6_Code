{
  "nbformat": 4,
  "nbformat_minor": 0,
  "metadata": {
    "colab": {
      "provenance": [],
      "collapsed_sections": [
        "SKlfmlCcm3mh",
        "r9ArhiuHvcBu",
        "iW0_J9uCvh8M",
        "ThM_q80OzhjA",
        "xF7-2pHGzmlO",
        "d4QOmBJkzuFt"
      ]
    },
    "kernelspec": {
      "name": "python3",
      "display_name": "Python 3"
    },
    "language_info": {
      "name": "python"
    }
  },
  "cells": [
    {
      "cell_type": "markdown",
      "source": [
        "# **Fungsi dan Argumen**"
      ],
      "metadata": {
        "id": "SKlfmlCcm3mh"
      }
    },
    {
      "cell_type": "markdown",
      "source": [
        "## **Fungsi Matematis**"
      ],
      "metadata": {
        "id": "Eb1kphpbu_r_"
      }
    },
    {
      "cell_type": "markdown",
      "source": [
        "### **Sederhana**"
      ],
      "metadata": {
        "id": "r9ArhiuHvcBu"
      }
    },
    {
      "cell_type": "code",
      "source": [
        "def hitung_luas_segitiga(tinggi, alas):\n",
        "    luas = 0.5 * tinggi * alas\n",
        "    return luas"
      ],
      "metadata": {
        "id": "ScwsmP-jm3DJ"
      },
      "execution_count": null,
      "outputs": []
    },
    {
      "cell_type": "code",
      "source": [
        "luas = hitung_luas_segitiga(8, 9)"
      ],
      "metadata": {
        "id": "rV78mVtDom6g"
      },
      "execution_count": null,
      "outputs": []
    },
    {
      "cell_type": "code",
      "source": [
        "luas"
      ],
      "metadata": {
        "colab": {
          "base_uri": "https://localhost:8080/"
        },
        "id": "40fPYLO8ouYc",
        "outputId": "c8f47d62-b54d-4e30-efc4-dddc74eb8c96"
      },
      "execution_count": null,
      "outputs": [
        {
          "output_type": "execute_result",
          "data": {
            "text/plain": [
              "36.0"
            ]
          },
          "metadata": {},
          "execution_count": 67
        }
      ]
    },
    {
      "cell_type": "code",
      "source": [
        "tinggi_segitiga = [5, 8, 10, 6, 7]\n",
        "alas_segitiga = [3, 6, 4, 9, 8]"
      ],
      "metadata": {
        "id": "WcF-oiriijb-"
      },
      "execution_count": null,
      "outputs": []
    },
    {
      "cell_type": "code",
      "source": [
        "luas_segitiga_idx = hitung_luas_segitiga(tinggi_segitiga[0], alas_segitiga[0])"
      ],
      "metadata": {
        "id": "yg6D7595nwj5"
      },
      "execution_count": null,
      "outputs": []
    },
    {
      "cell_type": "code",
      "source": [
        "luas_segitiga_idx"
      ],
      "metadata": {
        "colab": {
          "base_uri": "https://localhost:8080/"
        },
        "id": "R1HqWa9knx9g",
        "outputId": "8bed8624-b611-4dc7-e8bc-53b6587fcefe"
      },
      "execution_count": null,
      "outputs": [
        {
          "output_type": "execute_result",
          "data": {
            "text/plain": [
              "7.5"
            ]
          },
          "metadata": {},
          "execution_count": 59
        }
      ]
    },
    {
      "cell_type": "code",
      "source": [
        "luas_segitiga_orlist = [hitung_luas_segitiga(tinggi_segitiga[i], alas_segitiga[i]) for i in range(len(tinggi_segitiga))]"
      ],
      "metadata": {
        "id": "wMIqGZbGnOIp"
      },
      "execution_count": null,
      "outputs": []
    },
    {
      "cell_type": "code",
      "source": [
        "luas_segitiga_orlist"
      ],
      "metadata": {
        "colab": {
          "base_uri": "https://localhost:8080/"
        },
        "id": "EvtW3sPqnk_a",
        "outputId": "0e4e526b-bffd-4589-fd16-7273e53be0bb"
      },
      "execution_count": null,
      "outputs": [
        {
          "output_type": "execute_result",
          "data": {
            "text/plain": [
              "[7.5, 24.0, 20.0, 27.0, 28.0]"
            ]
          },
          "metadata": {},
          "execution_count": 61
        }
      ]
    },
    {
      "cell_type": "code",
      "source": [
        "luas_segitiga_unorlist = [hitung_luas_segitiga(tinggi_segitiga[i], alas_segitiga[3]) for i in range(len(tinggi_segitiga))]"
      ],
      "metadata": {
        "id": "SYZwqO4FoMVy"
      },
      "execution_count": null,
      "outputs": []
    },
    {
      "cell_type": "code",
      "source": [
        "luas_segitiga_unorlist"
      ],
      "metadata": {
        "colab": {
          "base_uri": "https://localhost:8080/"
        },
        "id": "Ww9vcECloURN",
        "outputId": "3039a464-7bd8-4e1b-f35d-df0930610b17"
      },
      "execution_count": null,
      "outputs": [
        {
          "output_type": "execute_result",
          "data": {
            "text/plain": [
              "[22.5, 36.0, 45.0, 27.0, 31.5]"
            ]
          },
          "metadata": {},
          "execution_count": 63
        }
      ]
    },
    {
      "cell_type": "markdown",
      "source": [
        "### **Kompleks**"
      ],
      "metadata": {
        "id": "iW0_J9uCvh8M"
      }
    },
    {
      "cell_type": "code",
      "source": [
        "def hitung_volume_prisma_segitiga(tinggi_prisma, tinggi_segitiga, alas_segitiga):\n",
        "    luas_alas = hitung_luas_segitiga(tinggi_segitiga, alas_segitiga)\n",
        "    volume = luas_alas * tinggi_prisma\n",
        "    return volume"
      ],
      "metadata": {
        "id": "sfI9v1RUpA-V"
      },
      "execution_count": null,
      "outputs": []
    },
    {
      "cell_type": "code",
      "source": [
        "volume = hitung_volume_prisma_segitiga(8, 9, 11)"
      ],
      "metadata": {
        "id": "AaK6TrzwphZ3"
      },
      "execution_count": null,
      "outputs": []
    },
    {
      "cell_type": "code",
      "source": [
        "volume"
      ],
      "metadata": {
        "colab": {
          "base_uri": "https://localhost:8080/"
        },
        "id": "2YSWRb9WprQk",
        "outputId": "eda56058-4cd6-449c-818f-ac38529ede56"
      },
      "execution_count": null,
      "outputs": [
        {
          "output_type": "execute_result",
          "data": {
            "text/plain": [
              "396.0"
            ]
          },
          "metadata": {},
          "execution_count": 70
        }
      ]
    },
    {
      "cell_type": "code",
      "source": [
        "tinggi_prisma = 30\n",
        "\n",
        "tinggi_prisma_list = [12, 15, 20, 33, 10]"
      ],
      "metadata": {
        "id": "gM328Z4Ktiqz"
      },
      "execution_count": null,
      "outputs": []
    },
    {
      "cell_type": "code",
      "source": [
        "volume_prisma = []\n",
        "\n",
        "# Menghitung volume prisma segitiga untuk setiap segitiga dalam list\n",
        "for i in range(len(tinggi_segitiga)):\n",
        "    volume = hitung_volume_prisma_segitiga(tinggi_prisma, tinggi_segitiga[i], alas_segitiga[i])\n",
        "    volume_prisma.append(volume)"
      ],
      "metadata": {
        "id": "EJ-qt26duOkP"
      },
      "execution_count": null,
      "outputs": []
    },
    {
      "cell_type": "code",
      "source": [
        "volume_prisma"
      ],
      "metadata": {
        "colab": {
          "base_uri": "https://localhost:8080/"
        },
        "id": "EHaLkjfAuXlN",
        "outputId": "89da07ed-09a4-4cd5-9cc5-a2d5f8746fe8"
      },
      "execution_count": null,
      "outputs": [
        {
          "output_type": "execute_result",
          "data": {
            "text/plain": [
              "[225.0, 720.0, 600.0, 810.0, 840.0]"
            ]
          },
          "metadata": {},
          "execution_count": 80
        }
      ]
    },
    {
      "cell_type": "code",
      "source": [
        "volume_orlist = []\n",
        "\n",
        "# Menghitung volume prisma segitiga untuk setiap segitiga dalam list\n",
        "for i in range(len(tinggi_segitiga)):\n",
        "    volume = hitung_volume_prisma_segitiga(tinggi_prisma_list[i], tinggi_segitiga[i], alas_segitiga[i])\n",
        "    volume_orlist.append(volume)"
      ],
      "metadata": {
        "id": "xYsH1vw5rdL3"
      },
      "execution_count": null,
      "outputs": []
    },
    {
      "cell_type": "code",
      "source": [
        "volume_orlist"
      ],
      "metadata": {
        "colab": {
          "base_uri": "https://localhost:8080/"
        },
        "id": "3iBXQ_MDtzO6",
        "outputId": "f82d0b13-284a-4a20-da7d-850675a94132"
      },
      "execution_count": null,
      "outputs": [
        {
          "output_type": "execute_result",
          "data": {
            "text/plain": [
              "[90.0, 360.0, 400.0, 891.0, 280.0]"
            ]
          },
          "metadata": {},
          "execution_count": 77
        }
      ]
    },
    {
      "cell_type": "markdown",
      "source": [
        "## **Arbitary**"
      ],
      "metadata": {
        "id": "Y8Oz-PCHupqb"
      }
    },
    {
      "cell_type": "markdown",
      "source": [
        "### **Argumen**"
      ],
      "metadata": {
        "id": "ThM_q80OzhjA"
      }
    },
    {
      "cell_type": "code",
      "source": [
        "def jumlahkan(*args):\n",
        "    total = 0\n",
        "    for angka in args:\n",
        "        total += angka\n",
        "    return total"
      ],
      "metadata": {
        "id": "qpbK7Kj6yArd"
      },
      "execution_count": null,
      "outputs": []
    },
    {
      "cell_type": "code",
      "source": [
        "print(jumlahkan(1, 2, 3, 4, 5))\n",
        "print(jumlahkan(10, 20, 30))\n",
        "print(jumlahkan(5, 10, 15, 20))"
      ],
      "metadata": {
        "colab": {
          "base_uri": "https://localhost:8080/"
        },
        "id": "GizdpySnz9wU",
        "outputId": "03344e0b-ff02-496c-d8a9-4dc19c26656c"
      },
      "execution_count": null,
      "outputs": [
        {
          "output_type": "stream",
          "name": "stdout",
          "text": [
            "15\n",
            "60\n",
            "50\n"
          ]
        }
      ]
    },
    {
      "cell_type": "markdown",
      "source": [
        "### **Kata Kunci**"
      ],
      "metadata": {
        "id": "xF7-2pHGzmlO"
      }
    },
    {
      "cell_type": "code",
      "source": [
        "def cetak_info(**kwargs):\n",
        "    for key, value in kwargs.items():\n",
        "        print(f'{key}: {value}')"
      ],
      "metadata": {
        "id": "vRXnUZ2zy04d"
      },
      "execution_count": null,
      "outputs": []
    },
    {
      "cell_type": "code",
      "source": [
        "cetak_info(nama='John', usia=30, pekerjaan='Developer')\n",
        "print(\"\")\n",
        "cetak_info(nama='Jane', kota='Jakarta', hobi='Membaca', kampus=\"Universita Negeri Jakarta\")"
      ],
      "metadata": {
        "colab": {
          "base_uri": "https://localhost:8080/"
        },
        "id": "zaAFs7Znz6ZS",
        "outputId": "25829133-a741-4f06-ec32-b5b73db469e8"
      },
      "execution_count": null,
      "outputs": [
        {
          "output_type": "stream",
          "name": "stdout",
          "text": [
            "nama: John\n",
            "usia: 30\n",
            "pekerjaan: Developer\n",
            "\n",
            "nama: Jane\n",
            "kota: Jakarta\n",
            "hobi: Membaca\n",
            "kampus: Universita Negeri Jakarta\n"
          ]
        }
      ]
    },
    {
      "cell_type": "markdown",
      "source": [
        "### **Kombinasi**"
      ],
      "metadata": {
        "id": "d4QOmBJkzuFt"
      }
    },
    {
      "cell_type": "code",
      "execution_count": null,
      "metadata": {
        "id": "t6Z4Wi2Vas-Z"
      },
      "outputs": [],
      "source": [
        "def gabung(*args, **kwargs):\n",
        "    hasil = \"\"\n",
        "    for arg in args:\n",
        "        hasil += arg\n",
        "    for key, value in kwargs.items():\n",
        "        hasil += f\" {key} {value}\"\n",
        "    return hasil"
      ]
    },
    {
      "cell_type": "code",
      "source": [
        "gabung(\"Halo\", \" \", \"Semuanya\", nama=\"Bima\", usia=20, status =\"Jomblo\")"
      ],
      "metadata": {
        "colab": {
          "base_uri": "https://localhost:8080/",
          "height": 36
        },
        "id": "m99oQ5XrcAaL",
        "outputId": "b5cd1800-1f19-47e5-c9ae-94055ed73366"
      },
      "execution_count": null,
      "outputs": [
        {
          "output_type": "execute_result",
          "data": {
            "text/plain": [
              "'Halo Semuanya nama Bima usia 20 status Jomblo'"
            ],
            "application/vnd.google.colaboratory.intrinsic+json": {
              "type": "string"
            }
          },
          "metadata": {},
          "execution_count": 89
        }
      ]
    },
    {
      "cell_type": "markdown",
      "source": [
        "# **Data Frame**"
      ],
      "metadata": {
        "id": "Zy4MrkIEtFZn"
      }
    },
    {
      "cell_type": "code",
      "source": [
        "import numpy as np\n",
        "import pandas as pd"
      ],
      "metadata": {
        "id": "YjAHLVTjtN27"
      },
      "execution_count": 1,
      "outputs": []
    },
    {
      "cell_type": "code",
      "source": [
        "file_path = \"https://raw.githubusercontent.com/BimaBayuUWUUU/DSAI_Batch6_Code/main/Dataset/customer_segmentation_data.csv\""
      ],
      "metadata": {
        "id": "Py4KH6iotV0E"
      },
      "execution_count": 2,
      "outputs": []
    },
    {
      "cell_type": "code",
      "source": [
        "df = pd"
      ],
      "metadata": {
        "id": "7yCn58N5x0T0"
      },
      "execution_count": null,
      "outputs": []
    }
  ]
}