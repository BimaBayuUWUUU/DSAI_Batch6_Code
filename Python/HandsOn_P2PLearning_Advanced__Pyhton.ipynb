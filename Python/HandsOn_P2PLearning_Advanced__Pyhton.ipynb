{
  "cells": [
    {
      "cell_type": "markdown",
      "metadata": {
        "id": "SKlfmlCcm3mh"
      },
      "source": [
        "# **Fungsi dan Argumen**"
      ]
    },
    {
      "cell_type": "markdown",
      "metadata": {
        "id": "Eb1kphpbu_r_"
      },
      "source": [
        "## **Fungsi Matematis**"
      ]
    },
    {
      "cell_type": "markdown",
      "metadata": {
        "id": "r9ArhiuHvcBu"
      },
      "source": [
        "### **Sederhana**"
      ]
    },
    {
      "cell_type": "code",
      "execution_count": 1,
      "metadata": {
        "id": "ScwsmP-jm3DJ"
      },
      "outputs": [],
      "source": [
        "def hitung_luas_segitiga(tinggi, alas):\n",
        "    luas = 0.5 * tinggi * alas\n",
        "    return luas"
      ]
    },
    {
      "cell_type": "code",
      "execution_count": 2,
      "metadata": {
        "id": "rV78mVtDom6g"
      },
      "outputs": [],
      "source": [
        "luas = hitung_luas_segitiga(8, 9)"
      ]
    },
    {
      "cell_type": "code",
      "execution_count": 3,
      "metadata": {
        "colab": {
          "base_uri": "https://localhost:8080/"
        },
        "id": "40fPYLO8ouYc",
        "outputId": "c8f47d62-b54d-4e30-efc4-dddc74eb8c96"
      },
      "outputs": [
        {
          "data": {
            "text/plain": [
              "36.0"
            ]
          },
          "execution_count": 3,
          "metadata": {},
          "output_type": "execute_result"
        }
      ],
      "source": [
        "luas"
      ]
    },
    {
      "cell_type": "code",
      "execution_count": 4,
      "metadata": {
        "id": "WcF-oiriijb-"
      },
      "outputs": [],
      "source": [
        "tinggi_segitiga = [5, 8, 10, 6, 7]\n",
        "alas_segitiga = [3, 6, 4, 9, 8]"
      ]
    },
    {
      "cell_type": "code",
      "execution_count": 5,
      "metadata": {
        "id": "yg6D7595nwj5"
      },
      "outputs": [],
      "source": [
        "luas_segitiga_idx = hitung_luas_segitiga(tinggi_segitiga[0], alas_segitiga[0])"
      ]
    },
    {
      "cell_type": "code",
      "execution_count": 6,
      "metadata": {
        "colab": {
          "base_uri": "https://localhost:8080/"
        },
        "id": "R1HqWa9knx9g",
        "outputId": "8bed8624-b611-4dc7-e8bc-53b6587fcefe"
      },
      "outputs": [
        {
          "data": {
            "text/plain": [
              "7.5"
            ]
          },
          "execution_count": 6,
          "metadata": {},
          "output_type": "execute_result"
        }
      ],
      "source": [
        "luas_segitiga_idx"
      ]
    },
    {
      "cell_type": "code",
      "execution_count": 7,
      "metadata": {
        "id": "wMIqGZbGnOIp"
      },
      "outputs": [],
      "source": [
        "luas_segitiga_orlist = [hitung_luas_segitiga(tinggi_segitiga[i], alas_segitiga[i]) for i in range(len(tinggi_segitiga))]"
      ]
    },
    {
      "cell_type": "code",
      "execution_count": 8,
      "metadata": {
        "colab": {
          "base_uri": "https://localhost:8080/"
        },
        "id": "EvtW3sPqnk_a",
        "outputId": "0e4e526b-bffd-4589-fd16-7273e53be0bb"
      },
      "outputs": [
        {
          "data": {
            "text/plain": [
              "[7.5, 24.0, 20.0, 27.0, 28.0]"
            ]
          },
          "execution_count": 8,
          "metadata": {},
          "output_type": "execute_result"
        }
      ],
      "source": [
        "luas_segitiga_orlist"
      ]
    },
    {
      "cell_type": "code",
      "execution_count": 9,
      "metadata": {
        "id": "SYZwqO4FoMVy"
      },
      "outputs": [],
      "source": [
        "luas_segitiga_unorlist = [hitung_luas_segitiga(tinggi_segitiga[i], alas_segitiga[3]) for i in range(len(tinggi_segitiga))]"
      ]
    },
    {
      "cell_type": "code",
      "execution_count": 10,
      "metadata": {
        "colab": {
          "base_uri": "https://localhost:8080/"
        },
        "id": "Ww9vcECloURN",
        "outputId": "3039a464-7bd8-4e1b-f35d-df0930610b17"
      },
      "outputs": [
        {
          "data": {
            "text/plain": [
              "[22.5, 36.0, 45.0, 27.0, 31.5]"
            ]
          },
          "execution_count": 10,
          "metadata": {},
          "output_type": "execute_result"
        }
      ],
      "source": [
        "luas_segitiga_unorlist"
      ]
    },
    {
      "cell_type": "markdown",
      "metadata": {
        "id": "iW0_J9uCvh8M"
      },
      "source": [
        "### **Kompleks**"
      ]
    },
    {
      "cell_type": "code",
      "execution_count": 11,
      "metadata": {
        "id": "sfI9v1RUpA-V"
      },
      "outputs": [],
      "source": [
        "def hitung_volume_prisma_segitiga(tinggi_prisma, tinggi_segitiga, alas_segitiga):\n",
        "    luas_alas = hitung_luas_segitiga(tinggi_segitiga, alas_segitiga)\n",
        "    volume = luas_alas * tinggi_prisma\n",
        "    return volume"
      ]
    },
    {
      "cell_type": "code",
      "execution_count": 12,
      "metadata": {
        "id": "AaK6TrzwphZ3"
      },
      "outputs": [],
      "source": [
        "volume = hitung_volume_prisma_segitiga(8, 9, 11)"
      ]
    },
    {
      "cell_type": "code",
      "execution_count": 13,
      "metadata": {
        "colab": {
          "base_uri": "https://localhost:8080/"
        },
        "id": "2YSWRb9WprQk",
        "outputId": "eda56058-4cd6-449c-818f-ac38529ede56"
      },
      "outputs": [
        {
          "data": {
            "text/plain": [
              "396.0"
            ]
          },
          "execution_count": 13,
          "metadata": {},
          "output_type": "execute_result"
        }
      ],
      "source": [
        "volume"
      ]
    },
    {
      "cell_type": "code",
      "execution_count": 14,
      "metadata": {
        "id": "gM328Z4Ktiqz"
      },
      "outputs": [],
      "source": [
        "tinggi_prisma = 30\n",
        "\n",
        "tinggi_prisma_list = [12, 15, 20, 33, 10]"
      ]
    },
    {
      "cell_type": "code",
      "execution_count": 15,
      "metadata": {
        "id": "EJ-qt26duOkP"
      },
      "outputs": [],
      "source": [
        "volume_prisma = []\n",
        "\n",
        "# Menghitung volume prisma segitiga untuk setiap segitiga dalam list\n",
        "for i in range(len(tinggi_segitiga)):\n",
        "    volume = hitung_volume_prisma_segitiga(tinggi_prisma, tinggi_segitiga[i], alas_segitiga[i])\n",
        "    volume_prisma.append(volume)"
      ]
    },
    {
      "cell_type": "code",
      "execution_count": 16,
      "metadata": {
        "colab": {
          "base_uri": "https://localhost:8080/"
        },
        "id": "EHaLkjfAuXlN",
        "outputId": "89da07ed-09a4-4cd5-9cc5-a2d5f8746fe8"
      },
      "outputs": [
        {
          "data": {
            "text/plain": [
              "[225.0, 720.0, 600.0, 810.0, 840.0]"
            ]
          },
          "execution_count": 16,
          "metadata": {},
          "output_type": "execute_result"
        }
      ],
      "source": [
        "volume_prisma"
      ]
    },
    {
      "cell_type": "code",
      "execution_count": 17,
      "metadata": {
        "id": "xYsH1vw5rdL3"
      },
      "outputs": [],
      "source": [
        "volume_orlist = []\n",
        "\n",
        "# Menghitung volume prisma segitiga untuk setiap segitiga dalam list\n",
        "for i in range(len(tinggi_segitiga)):\n",
        "    volume = hitung_volume_prisma_segitiga(tinggi_prisma_list[i], tinggi_segitiga[i], alas_segitiga[i])\n",
        "    volume_orlist.append(volume)"
      ]
    },
    {
      "cell_type": "code",
      "execution_count": 18,
      "metadata": {
        "colab": {
          "base_uri": "https://localhost:8080/"
        },
        "id": "3iBXQ_MDtzO6",
        "outputId": "f82d0b13-284a-4a20-da7d-850675a94132"
      },
      "outputs": [
        {
          "data": {
            "text/plain": [
              "[90.0, 360.0, 400.0, 891.0, 280.0]"
            ]
          },
          "execution_count": 18,
          "metadata": {},
          "output_type": "execute_result"
        }
      ],
      "source": [
        "volume_orlist"
      ]
    },
    {
      "cell_type": "markdown",
      "metadata": {
        "id": "Y8Oz-PCHupqb"
      },
      "source": [
        "## **Arbitary**"
      ]
    },
    {
      "cell_type": "markdown",
      "metadata": {
        "id": "ThM_q80OzhjA"
      },
      "source": [
        "### **Argumen**"
      ]
    },
    {
      "cell_type": "code",
      "execution_count": 19,
      "metadata": {
        "id": "qpbK7Kj6yArd"
      },
      "outputs": [],
      "source": [
        "def jumlahkan(*args):\n",
        "    total = 0\n",
        "    for angka in args:\n",
        "        total += angka\n",
        "    return total"
      ]
    },
    {
      "cell_type": "code",
      "execution_count": 20,
      "metadata": {
        "colab": {
          "base_uri": "https://localhost:8080/"
        },
        "id": "GizdpySnz9wU",
        "outputId": "03344e0b-ff02-496c-d8a9-4dc19c26656c"
      },
      "outputs": [
        {
          "name": "stdout",
          "output_type": "stream",
          "text": [
            "15\n",
            "60\n",
            "50\n"
          ]
        }
      ],
      "source": [
        "print(jumlahkan(1, 2, 3, 4, 5))\n",
        "print(jumlahkan(10, 20, 30))\n",
        "print(jumlahkan(5, 10, 15, 20))"
      ]
    },
    {
      "cell_type": "markdown",
      "metadata": {
        "id": "xF7-2pHGzmlO"
      },
      "source": [
        "### **Kata Kunci**"
      ]
    },
    {
      "cell_type": "code",
      "execution_count": 21,
      "metadata": {
        "id": "vRXnUZ2zy04d"
      },
      "outputs": [],
      "source": [
        "def cetak_info(**kwargs):\n",
        "    for key, value in kwargs.items():\n",
        "        print(f'{key}: {value}')"
      ]
    },
    {
      "cell_type": "code",
      "execution_count": 22,
      "metadata": {
        "colab": {
          "base_uri": "https://localhost:8080/"
        },
        "id": "zaAFs7Znz6ZS",
        "outputId": "25829133-a741-4f06-ec32-b5b73db469e8"
      },
      "outputs": [
        {
          "name": "stdout",
          "output_type": "stream",
          "text": [
            "nama: John\n",
            "usia: 30\n",
            "pekerjaan: Developer\n",
            "\n",
            "nama: Jane\n",
            "kota: Jakarta\n",
            "hobi: Membaca\n",
            "kampus: Universita Negeri Jakarta\n"
          ]
        }
      ],
      "source": [
        "cetak_info(nama='John', usia=30, pekerjaan='Developer')\n",
        "print(\"\")\n",
        "cetak_info(nama='Jane', kota='Jakarta', hobi='Membaca', kampus=\"Universita Negeri Jakarta\")"
      ]
    },
    {
      "cell_type": "markdown",
      "metadata": {
        "id": "d4QOmBJkzuFt"
      },
      "source": [
        "### **Kombinasi**"
      ]
    },
    {
      "cell_type": "code",
      "execution_count": 23,
      "metadata": {
        "id": "t6Z4Wi2Vas-Z"
      },
      "outputs": [],
      "source": [
        "def gabung(*args, **kwargs):\n",
        "    hasil = \"\"\n",
        "    for arg in args:\n",
        "        hasil += arg\n",
        "    for key, value in kwargs.items():\n",
        "        hasil += f\" {key} {value}\"\n",
        "    return hasil"
      ]
    },
    {
      "cell_type": "code",
      "execution_count": 24,
      "metadata": {
        "colab": {
          "base_uri": "https://localhost:8080/",
          "height": 36
        },
        "id": "m99oQ5XrcAaL",
        "outputId": "b5cd1800-1f19-47e5-c9ae-94055ed73366"
      },
      "outputs": [
        {
          "data": {
            "text/plain": [
              "'Halo Semuanya nama Bima usia 20 status Jomblo'"
            ]
          },
          "execution_count": 24,
          "metadata": {},
          "output_type": "execute_result"
        }
      ],
      "source": [
        "gabung(\"Halo\", \" \", \"Semuanya\", nama=\"Bima\", usia=20, status =\"Jomblo\")"
      ]
    },
    {
      "cell_type": "markdown",
      "metadata": {
        "id": "Zy4MrkIEtFZn"
      },
      "source": [
        "# **Data Frame**"
      ]
    },
    {
      "cell_type": "code",
      "execution_count": 25,
      "metadata": {
        "id": "YjAHLVTjtN27"
      },
      "outputs": [],
      "source": [
        "import numpy as np\n",
        "import pandas as pd"
      ]
    },
    {
      "cell_type": "code",
      "execution_count": 26,
      "metadata": {
        "id": "Py4KH6iotV0E"
      },
      "outputs": [],
      "source": [
        "file_path = \"https://raw.githubusercontent.com/BimaBayuUWUUU/DSAI_Batch6_Code/main/Dataset/customer_segmentation_data.csv\""
      ]
    },
    {
      "cell_type": "code",
      "execution_count": 28,
      "metadata": {
        "id": "7yCn58N5x0T0"
      },
      "outputs": [],
      "source": [
        "df = pd.read_csv(file_path)"
      ]
    },
    {
      "cell_type": "code",
      "execution_count": 29,
      "metadata": {},
      "outputs": [
        {
          "name": "stdout",
          "output_type": "stream",
          "text": [
            "<class 'pandas.core.frame.DataFrame'>\n",
            "RangeIndex: 53503 entries, 0 to 53502\n",
            "Data columns (total 20 columns):\n",
            " #   Column                              Non-Null Count  Dtype \n",
            "---  ------                              --------------  ----- \n",
            " 0   Customer ID                         53503 non-null  int64 \n",
            " 1   Age                                 53503 non-null  int64 \n",
            " 2   Gender                              53503 non-null  object\n",
            " 3   Marital Status                      53503 non-null  object\n",
            " 4   Education Level                     53503 non-null  object\n",
            " 5   Geographic Information              53503 non-null  object\n",
            " 6   Occupation                          53503 non-null  object\n",
            " 7   Income Level                        53503 non-null  int64 \n",
            " 8   Behavioral Data                     53503 non-null  object\n",
            " 9   Purchase History                    53503 non-null  object\n",
            " 10  Interactions with Customer Service  53503 non-null  object\n",
            " 11  Insurance Products Owned            53503 non-null  object\n",
            " 12  Coverage Amount                     53503 non-null  int64 \n",
            " 13  Premium Amount                      53503 non-null  int64 \n",
            " 14  Policy Type                         53503 non-null  object\n",
            " 15  Customer Preferences                53503 non-null  object\n",
            " 16  Preferred Communication Channel     53503 non-null  object\n",
            " 17  Preferred Contact Time              53503 non-null  object\n",
            " 18  Preferred Language                  53503 non-null  object\n",
            " 19  Segmentation Group                  53503 non-null  object\n",
            "dtypes: int64(5), object(15)\n",
            "memory usage: 8.2+ MB\n"
          ]
        }
      ],
      "source": [
        "df.info()"
      ]
    },
    {
      "cell_type": "code",
      "execution_count": 30,
      "metadata": {},
      "outputs": [
        {
          "data": {
            "text/html": [
              "<div>\n",
              "<style scoped>\n",
              "    .dataframe tbody tr th:only-of-type {\n",
              "        vertical-align: middle;\n",
              "    }\n",
              "\n",
              "    .dataframe tbody tr th {\n",
              "        vertical-align: top;\n",
              "    }\n",
              "\n",
              "    .dataframe thead th {\n",
              "        text-align: right;\n",
              "    }\n",
              "</style>\n",
              "<table border=\"1\" class=\"dataframe\">\n",
              "  <thead>\n",
              "    <tr style=\"text-align: right;\">\n",
              "      <th></th>\n",
              "      <th>Customer ID</th>\n",
              "      <th>Age</th>\n",
              "      <th>Gender</th>\n",
              "      <th>Marital Status</th>\n",
              "      <th>Education Level</th>\n",
              "      <th>Geographic Information</th>\n",
              "      <th>Occupation</th>\n",
              "      <th>Income Level</th>\n",
              "      <th>Behavioral Data</th>\n",
              "      <th>Purchase History</th>\n",
              "      <th>Interactions with Customer Service</th>\n",
              "      <th>Insurance Products Owned</th>\n",
              "      <th>Coverage Amount</th>\n",
              "      <th>Premium Amount</th>\n",
              "      <th>Policy Type</th>\n",
              "      <th>Customer Preferences</th>\n",
              "      <th>Preferred Communication Channel</th>\n",
              "      <th>Preferred Contact Time</th>\n",
              "      <th>Preferred Language</th>\n",
              "      <th>Segmentation Group</th>\n",
              "    </tr>\n",
              "  </thead>\n",
              "  <tbody>\n",
              "    <tr>\n",
              "      <th>0</th>\n",
              "      <td>84966</td>\n",
              "      <td>23</td>\n",
              "      <td>Female</td>\n",
              "      <td>Married</td>\n",
              "      <td>Associate Degree</td>\n",
              "      <td>Mizoram</td>\n",
              "      <td>Entrepreneur</td>\n",
              "      <td>70541</td>\n",
              "      <td>policy5</td>\n",
              "      <td>04-10-2018</td>\n",
              "      <td>Phone</td>\n",
              "      <td>policy2</td>\n",
              "      <td>366603</td>\n",
              "      <td>2749</td>\n",
              "      <td>Group</td>\n",
              "      <td>Email</td>\n",
              "      <td>In-Person Meeting</td>\n",
              "      <td>Afternoon</td>\n",
              "      <td>English</td>\n",
              "      <td>Segment5</td>\n",
              "    </tr>\n",
              "    <tr>\n",
              "      <th>1</th>\n",
              "      <td>95568</td>\n",
              "      <td>26</td>\n",
              "      <td>Male</td>\n",
              "      <td>Widowed</td>\n",
              "      <td>Doctorate</td>\n",
              "      <td>Goa</td>\n",
              "      <td>Manager</td>\n",
              "      <td>54168</td>\n",
              "      <td>policy5</td>\n",
              "      <td>11-06-2018</td>\n",
              "      <td>Chat</td>\n",
              "      <td>policy1</td>\n",
              "      <td>780236</td>\n",
              "      <td>1966</td>\n",
              "      <td>Group</td>\n",
              "      <td>Mail</td>\n",
              "      <td>In-Person Meeting</td>\n",
              "      <td>Morning</td>\n",
              "      <td>French</td>\n",
              "      <td>Segment5</td>\n",
              "    </tr>\n",
              "    <tr>\n",
              "      <th>2</th>\n",
              "      <td>10544</td>\n",
              "      <td>29</td>\n",
              "      <td>Female</td>\n",
              "      <td>Single</td>\n",
              "      <td>Associate Degree</td>\n",
              "      <td>Rajasthan</td>\n",
              "      <td>Entrepreneur</td>\n",
              "      <td>73899</td>\n",
              "      <td>policy5</td>\n",
              "      <td>06-05-2021</td>\n",
              "      <td>Email</td>\n",
              "      <td>policy3</td>\n",
              "      <td>773926</td>\n",
              "      <td>4413</td>\n",
              "      <td>Group</td>\n",
              "      <td>Email</td>\n",
              "      <td>Mail</td>\n",
              "      <td>Evening</td>\n",
              "      <td>German</td>\n",
              "      <td>Segment3</td>\n",
              "    </tr>\n",
              "    <tr>\n",
              "      <th>3</th>\n",
              "      <td>77033</td>\n",
              "      <td>20</td>\n",
              "      <td>Male</td>\n",
              "      <td>Divorced</td>\n",
              "      <td>Bachelor's Degree</td>\n",
              "      <td>Sikkim</td>\n",
              "      <td>Entrepreneur</td>\n",
              "      <td>63381</td>\n",
              "      <td>policy5</td>\n",
              "      <td>09-02-2018</td>\n",
              "      <td>Chat</td>\n",
              "      <td>policy2</td>\n",
              "      <td>787815</td>\n",
              "      <td>4342</td>\n",
              "      <td>Family</td>\n",
              "      <td>Text</td>\n",
              "      <td>In-Person Meeting</td>\n",
              "      <td>Anytime</td>\n",
              "      <td>French</td>\n",
              "      <td>Segment3</td>\n",
              "    </tr>\n",
              "    <tr>\n",
              "      <th>4</th>\n",
              "      <td>88160</td>\n",
              "      <td>25</td>\n",
              "      <td>Female</td>\n",
              "      <td>Separated</td>\n",
              "      <td>Bachelor's Degree</td>\n",
              "      <td>West Bengal</td>\n",
              "      <td>Manager</td>\n",
              "      <td>38794</td>\n",
              "      <td>policy1</td>\n",
              "      <td>09-10-2018</td>\n",
              "      <td>Chat</td>\n",
              "      <td>policy4</td>\n",
              "      <td>366506</td>\n",
              "      <td>1276</td>\n",
              "      <td>Family</td>\n",
              "      <td>Email</td>\n",
              "      <td>Text</td>\n",
              "      <td>Weekends</td>\n",
              "      <td>English</td>\n",
              "      <td>Segment2</td>\n",
              "    </tr>\n",
              "    <tr>\n",
              "      <th>5</th>\n",
              "      <td>60937</td>\n",
              "      <td>41</td>\n",
              "      <td>Female</td>\n",
              "      <td>Separated</td>\n",
              "      <td>Master's Degree</td>\n",
              "      <td>Uttar Pradesh</td>\n",
              "      <td>Nurse</td>\n",
              "      <td>87188</td>\n",
              "      <td>policy5</td>\n",
              "      <td>9/19/2020</td>\n",
              "      <td>Chat</td>\n",
              "      <td>policy1</td>\n",
              "      <td>570757</td>\n",
              "      <td>1106</td>\n",
              "      <td>Individual</td>\n",
              "      <td>Text</td>\n",
              "      <td>Text</td>\n",
              "      <td>Afternoon</td>\n",
              "      <td>English</td>\n",
              "      <td>Segment4</td>\n",
              "    </tr>\n",
              "    <tr>\n",
              "      <th>6</th>\n",
              "      <td>37676</td>\n",
              "      <td>55</td>\n",
              "      <td>Male</td>\n",
              "      <td>Single</td>\n",
              "      <td>Bachelor's Degree</td>\n",
              "      <td>Rajasthan</td>\n",
              "      <td>Manager</td>\n",
              "      <td>94891</td>\n",
              "      <td>policy3</td>\n",
              "      <td>07-04-2021</td>\n",
              "      <td>Chat</td>\n",
              "      <td>policy2</td>\n",
              "      <td>604069</td>\n",
              "      <td>3661</td>\n",
              "      <td>Group</td>\n",
              "      <td>In-Person Meeting</td>\n",
              "      <td>Text</td>\n",
              "      <td>Weekends</td>\n",
              "      <td>Mandarin</td>\n",
              "      <td>Segment5</td>\n",
              "    </tr>\n",
              "    <tr>\n",
              "      <th>7</th>\n",
              "      <td>54100</td>\n",
              "      <td>35</td>\n",
              "      <td>Male</td>\n",
              "      <td>Married</td>\n",
              "      <td>Master's Degree</td>\n",
              "      <td>Himachal Pradesh</td>\n",
              "      <td>Artist</td>\n",
              "      <td>61003</td>\n",
              "      <td>policy1</td>\n",
              "      <td>11-01-2021</td>\n",
              "      <td>Phone</td>\n",
              "      <td>policy3</td>\n",
              "      <td>418997</td>\n",
              "      <td>1148</td>\n",
              "      <td>Business</td>\n",
              "      <td>Email</td>\n",
              "      <td>Phone</td>\n",
              "      <td>Morning</td>\n",
              "      <td>English</td>\n",
              "      <td>Segment5</td>\n",
              "    </tr>\n",
              "    <tr>\n",
              "      <th>8</th>\n",
              "      <td>30476</td>\n",
              "      <td>43</td>\n",
              "      <td>Female</td>\n",
              "      <td>Single</td>\n",
              "      <td>Doctorate</td>\n",
              "      <td>Manipur</td>\n",
              "      <td>Salesperson</td>\n",
              "      <td>116249</td>\n",
              "      <td>policy1</td>\n",
              "      <td>9/20/2020</td>\n",
              "      <td>Mobile App</td>\n",
              "      <td>policy4</td>\n",
              "      <td>319423</td>\n",
              "      <td>2612</td>\n",
              "      <td>Business</td>\n",
              "      <td>In-Person Meeting</td>\n",
              "      <td>Text</td>\n",
              "      <td>Weekends</td>\n",
              "      <td>Mandarin</td>\n",
              "      <td>Segment2</td>\n",
              "    </tr>\n",
              "    <tr>\n",
              "      <th>9</th>\n",
              "      <td>39071</td>\n",
              "      <td>32</td>\n",
              "      <td>Female</td>\n",
              "      <td>Single</td>\n",
              "      <td>Master's Degree</td>\n",
              "      <td>Gujarat</td>\n",
              "      <td>Artist</td>\n",
              "      <td>49083</td>\n",
              "      <td>policy3</td>\n",
              "      <td>4/24/2020</td>\n",
              "      <td>Phone</td>\n",
              "      <td>policy1</td>\n",
              "      <td>701577</td>\n",
              "      <td>4595</td>\n",
              "      <td>Group</td>\n",
              "      <td>Phone</td>\n",
              "      <td>Email</td>\n",
              "      <td>Weekends</td>\n",
              "      <td>English</td>\n",
              "      <td>Segment2</td>\n",
              "    </tr>\n",
              "  </tbody>\n",
              "</table>\n",
              "</div>"
            ],
            "text/plain": [
              "   Customer ID  Age  Gender Marital Status    Education Level  \\\n",
              "0        84966   23  Female        Married   Associate Degree   \n",
              "1        95568   26    Male        Widowed          Doctorate   \n",
              "2        10544   29  Female         Single   Associate Degree   \n",
              "3        77033   20    Male       Divorced  Bachelor's Degree   \n",
              "4        88160   25  Female      Separated  Bachelor's Degree   \n",
              "5        60937   41  Female      Separated    Master's Degree   \n",
              "6        37676   55    Male         Single  Bachelor's Degree   \n",
              "7        54100   35    Male        Married    Master's Degree   \n",
              "8        30476   43  Female         Single          Doctorate   \n",
              "9        39071   32  Female         Single    Master's Degree   \n",
              "\n",
              "  Geographic Information    Occupation  Income Level Behavioral Data  \\\n",
              "0                Mizoram  Entrepreneur         70541         policy5   \n",
              "1                    Goa       Manager         54168         policy5   \n",
              "2              Rajasthan  Entrepreneur         73899         policy5   \n",
              "3                 Sikkim  Entrepreneur         63381         policy5   \n",
              "4            West Bengal       Manager         38794         policy1   \n",
              "5          Uttar Pradesh         Nurse         87188         policy5   \n",
              "6              Rajasthan       Manager         94891         policy3   \n",
              "7       Himachal Pradesh        Artist         61003         policy1   \n",
              "8                Manipur   Salesperson        116249         policy1   \n",
              "9                Gujarat        Artist         49083         policy3   \n",
              "\n",
              "  Purchase History Interactions with Customer Service  \\\n",
              "0       04-10-2018                              Phone   \n",
              "1       11-06-2018                               Chat   \n",
              "2       06-05-2021                              Email   \n",
              "3       09-02-2018                               Chat   \n",
              "4       09-10-2018                               Chat   \n",
              "5        9/19/2020                               Chat   \n",
              "6       07-04-2021                               Chat   \n",
              "7       11-01-2021                              Phone   \n",
              "8        9/20/2020                         Mobile App   \n",
              "9        4/24/2020                              Phone   \n",
              "\n",
              "  Insurance Products Owned  Coverage Amount  Premium Amount Policy Type  \\\n",
              "0                  policy2           366603            2749       Group   \n",
              "1                  policy1           780236            1966       Group   \n",
              "2                  policy3           773926            4413       Group   \n",
              "3                  policy2           787815            4342      Family   \n",
              "4                  policy4           366506            1276      Family   \n",
              "5                  policy1           570757            1106  Individual   \n",
              "6                  policy2           604069            3661       Group   \n",
              "7                  policy3           418997            1148    Business   \n",
              "8                  policy4           319423            2612    Business   \n",
              "9                  policy1           701577            4595       Group   \n",
              "\n",
              "  Customer Preferences Preferred Communication Channel Preferred Contact Time  \\\n",
              "0                Email               In-Person Meeting              Afternoon   \n",
              "1                 Mail               In-Person Meeting                Morning   \n",
              "2                Email                            Mail                Evening   \n",
              "3                 Text               In-Person Meeting                Anytime   \n",
              "4                Email                            Text               Weekends   \n",
              "5                 Text                            Text              Afternoon   \n",
              "6    In-Person Meeting                            Text               Weekends   \n",
              "7                Email                           Phone                Morning   \n",
              "8    In-Person Meeting                            Text               Weekends   \n",
              "9                Phone                           Email               Weekends   \n",
              "\n",
              "  Preferred Language Segmentation Group  \n",
              "0            English           Segment5  \n",
              "1             French           Segment5  \n",
              "2             German           Segment3  \n",
              "3             French           Segment3  \n",
              "4            English           Segment2  \n",
              "5            English           Segment4  \n",
              "6           Mandarin           Segment5  \n",
              "7            English           Segment5  \n",
              "8           Mandarin           Segment2  \n",
              "9            English           Segment2  "
            ]
          },
          "execution_count": 30,
          "metadata": {},
          "output_type": "execute_result"
        }
      ],
      "source": [
        "df.head(10)"
      ]
    },
    {
      "cell_type": "code",
      "execution_count": null,
      "metadata": {},
      "outputs": [],
      "source": []
    }
  ],
  "metadata": {
    "colab": {
      "collapsed_sections": [
        "SKlfmlCcm3mh",
        "r9ArhiuHvcBu",
        "iW0_J9uCvh8M",
        "ThM_q80OzhjA",
        "xF7-2pHGzmlO",
        "d4QOmBJkzuFt"
      ],
      "provenance": []
    },
    "kernelspec": {
      "display_name": "Python 3",
      "name": "python3"
    },
    "language_info": {
      "codemirror_mode": {
        "name": "ipython",
        "version": 3
      },
      "file_extension": ".py",
      "mimetype": "text/x-python",
      "name": "python",
      "nbconvert_exporter": "python",
      "pygments_lexer": "ipython3",
      "version": "3.9.18"
    }
  },
  "nbformat": 4,
  "nbformat_minor": 0
}
