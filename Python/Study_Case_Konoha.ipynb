{
 "cells": [
  {
   "cell_type": "code",
   "execution_count": 128,
   "metadata": {},
   "outputs": [],
   "source": [
    "import pandas as pd\n",
    "from scipy.stats import chi2_contingency"
   ]
  },
  {
   "cell_type": "markdown",
   "metadata": {},
   "source": [
    "# **AB Testing**"
   ]
  },
  {
   "cell_type": "code",
   "execution_count": 129,
   "metadata": {},
   "outputs": [],
   "source": [
    "# Membuat data frame dari data yang diberikan\n",
    "data = {'Interface': ['X', 'Y'],\n",
    "        'Total Users': [2500, 2200],\n",
    "        'Active Users': [729, 802],\n",
    "        'Inactive Users': [2500 - 729, 2200 - 802]}\n",
    "df = pd.DataFrame(data)"
   ]
  },
  {
   "cell_type": "code",
   "execution_count": 130,
   "metadata": {},
   "outputs": [
    {
     "name": "stdout",
     "output_type": "stream",
     "text": [
      "Data Frame:\n"
     ]
    },
    {
     "data": {
      "text/html": [
       "<div>\n",
       "<style scoped>\n",
       "    .dataframe tbody tr th:only-of-type {\n",
       "        vertical-align: middle;\n",
       "    }\n",
       "\n",
       "    .dataframe tbody tr th {\n",
       "        vertical-align: top;\n",
       "    }\n",
       "\n",
       "    .dataframe thead th {\n",
       "        text-align: right;\n",
       "    }\n",
       "</style>\n",
       "<table border=\"1\" class=\"dataframe\">\n",
       "  <thead>\n",
       "    <tr style=\"text-align: right;\">\n",
       "      <th></th>\n",
       "      <th>Interface</th>\n",
       "      <th>Total Users</th>\n",
       "      <th>Active Users</th>\n",
       "      <th>Inactive Users</th>\n",
       "    </tr>\n",
       "  </thead>\n",
       "  <tbody>\n",
       "    <tr>\n",
       "      <th>0</th>\n",
       "      <td>X</td>\n",
       "      <td>2500</td>\n",
       "      <td>729</td>\n",
       "      <td>1771</td>\n",
       "    </tr>\n",
       "    <tr>\n",
       "      <th>1</th>\n",
       "      <td>Y</td>\n",
       "      <td>2200</td>\n",
       "      <td>802</td>\n",
       "      <td>1398</td>\n",
       "    </tr>\n",
       "  </tbody>\n",
       "</table>\n",
       "</div>"
      ],
      "text/plain": [
       "  Interface  Total Users  Active Users  Inactive Users\n",
       "0         X         2500           729            1771\n",
       "1         Y         2200           802            1398"
      ]
     },
     "execution_count": 130,
     "metadata": {},
     "output_type": "execute_result"
    }
   ],
   "source": [
    "# Menampilkan data frame\n",
    "print(\"Data Frame:\")\n",
    "df.head()"
   ]
  },
  {
   "cell_type": "code",
   "execution_count": 131,
   "metadata": {},
   "outputs": [],
   "source": [
    "df2= df.assign(CTR=df[\"Active Users\"] / df[\"Total Users\"])"
   ]
  },
  {
   "cell_type": "code",
   "execution_count": 132,
   "metadata": {},
   "outputs": [
    {
     "data": {
      "text/html": [
       "<div>\n",
       "<style scoped>\n",
       "    .dataframe tbody tr th:only-of-type {\n",
       "        vertical-align: middle;\n",
       "    }\n",
       "\n",
       "    .dataframe tbody tr th {\n",
       "        vertical-align: top;\n",
       "    }\n",
       "\n",
       "    .dataframe thead th {\n",
       "        text-align: right;\n",
       "    }\n",
       "</style>\n",
       "<table border=\"1\" class=\"dataframe\">\n",
       "  <thead>\n",
       "    <tr style=\"text-align: right;\">\n",
       "      <th></th>\n",
       "      <th>Interface</th>\n",
       "      <th>Total Users</th>\n",
       "      <th>Active Users</th>\n",
       "      <th>Inactive Users</th>\n",
       "      <th>CTR</th>\n",
       "    </tr>\n",
       "  </thead>\n",
       "  <tbody>\n",
       "    <tr>\n",
       "      <th>0</th>\n",
       "      <td>X</td>\n",
       "      <td>2500</td>\n",
       "      <td>729</td>\n",
       "      <td>1771</td>\n",
       "      <td>0.291600</td>\n",
       "    </tr>\n",
       "    <tr>\n",
       "      <th>1</th>\n",
       "      <td>Y</td>\n",
       "      <td>2200</td>\n",
       "      <td>802</td>\n",
       "      <td>1398</td>\n",
       "      <td>0.364545</td>\n",
       "    </tr>\n",
       "  </tbody>\n",
       "</table>\n",
       "</div>"
      ],
      "text/plain": [
       "  Interface  Total Users  Active Users  Inactive Users       CTR\n",
       "0         X         2500           729            1771  0.291600\n",
       "1         Y         2200           802            1398  0.364545"
      ]
     },
     "execution_count": 132,
     "metadata": {},
     "output_type": "execute_result"
    }
   ],
   "source": [
    "df2.head()"
   ]
  },
  {
   "cell_type": "code",
   "execution_count": 133,
   "metadata": {},
   "outputs": [],
   "source": [
    "# Menentukan tabel kontingensi\n",
    "observed = df[['Active Users', 'Inactive Users']].values"
   ]
  },
  {
   "cell_type": "code",
   "execution_count": 134,
   "metadata": {},
   "outputs": [],
   "source": [
    "# Melakukan uji chi-square\n",
    "chi2, p, dof, expected = chi2_contingency(observed)"
   ]
  },
  {
   "cell_type": "code",
   "execution_count": 135,
   "metadata": {},
   "outputs": [
    {
     "name": "stdout",
     "output_type": "stream",
     "text": [
      "\n",
      "Nilai chi-square: 28.01927742721826\n",
      "P-value: 1.2011293328108103e-07\n",
      "Derajat kebebasan: 1\n",
      "Ekspektasi:\n",
      "           Active Users  Inactive Users\n",
      "Interface                              \n",
      "X            814.361702     1685.638298\n",
      "Y            716.638298     1483.361702\n"
     ]
    }
   ],
   "source": [
    "# Menampilkan hasil\n",
    "print(\"\\nNilai chi-square:\", chi2)\n",
    "print(\"P-value:\", p)\n",
    "print(\"Derajat kebebasan:\", dof)\n",
    "print(\"Ekspektasi:\")\n",
    "print(pd.DataFrame(expected, columns=['Active Users', 'Inactive Users'], index=df['Interface']))"
   ]
  },
  {
   "cell_type": "code",
   "execution_count": 136,
   "metadata": {},
   "outputs": [
    {
     "name": "stdout",
     "output_type": "stream",
     "text": [
      "\n",
      "Terdapat hubungan yang signifikan antara skenario interface dan proporsi pengguna yang aktif menggunakan fitur 'Kegiatan Klan'.\n"
     ]
    }
   ],
   "source": [
    "# Menginterpretasi hasil\n",
    "alpha = 0.05\n",
    "if p < alpha:\n",
    "    print(\"\\nTerdapat hubungan yang signifikan antara skenario interface dan proporsi pengguna yang aktif menggunakan fitur 'Kegiatan Klan'.\")\n",
    "else:\n",
    "    print(\"\\nTidak cukup bukti untuk menyimpulkan adanya hubungan yang signifikan antara skenario interface dan proporsi pengguna yang aktif menggunakan fitur 'Kegiatan Klan'.\")"
   ]
  },
  {
   "cell_type": "markdown",
   "metadata": {},
   "source": [
    "# **Lanjutan Cost per User**"
   ]
  },
  {
   "cell_type": "code",
   "execution_count": 137,
   "metadata": {},
   "outputs": [],
   "source": [
    "# Data dari A/B test\n",
    "data = {\n",
    "    'Interface': ['X', 'Y'],\n",
    "    'Total_Users': [2500, 2200],\n",
    "    'Active_Users': [729, 802],\n",
    "    'Cost_Per_User': [25, 32]\n",
    "}\n",
    "\n",
    "# Membuat DataFrame\n",
    "df3 = pd.DataFrame(data)\n"
   ]
  },
  {
   "cell_type": "code",
   "execution_count": 138,
   "metadata": {},
   "outputs": [],
   "source": [
    "# Menghitung tingkat engagement\n",
    "df3['Engagement'] = df3['Active_Users'] / df3['Total_Users']"
   ]
  },
  {
   "cell_type": "code",
   "execution_count": 139,
   "metadata": {},
   "outputs": [],
   "source": [
    "# Menghitung profit per pengguna\n",
    "profit_per_user = 17.5\n",
    "df3['Profit_Per_User'] = profit_per_user"
   ]
  },
  {
   "cell_type": "code",
   "execution_count": 140,
   "metadata": {},
   "outputs": [],
   "source": [
    "# Menghitung Total Cost\n",
    "df3['Total_Cost'] = df3['Cost_Per_User'] * df3['Total_Users']"
   ]
  },
  {
   "cell_type": "code",
   "execution_count": 141,
   "metadata": {},
   "outputs": [],
   "source": [
    "# Menghitung Total Profit\n",
    "df3['Total_Profit'] = df3['Active_Users'] * df3['Profit_Per_User']"
   ]
  },
  {
   "cell_type": "code",
   "execution_count": 142,
   "metadata": {},
   "outputs": [],
   "source": [
    "# Menghitung profit bersih\n",
    "df3['Net_Profit'] = df3['Total_Profit'] - df3['Total_Cost']"
   ]
  },
  {
   "cell_type": "code",
   "execution_count": 143,
   "metadata": {},
   "outputs": [],
   "source": [
    "# Menghitung Return on Investment (ROI)\n",
    "df3['ROI'] = df3['Net_Profit'] / df3['Total_Cost']\n",
    "\n",
    "# Menentukan interface dengan ROI tertinggi\n",
    "recommendation = df3.loc[df3['ROI'].idxmax(), 'Interface']"
   ]
  },
  {
   "cell_type": "code",
   "execution_count": 144,
   "metadata": {},
   "outputs": [],
   "source": [
    "# Definisikan bobot untuk setiap faktor\n",
    "weight_engagement = 0.6  # Bobot tingkat engagement\n",
    "weight_cost = 0.4  # Bobot biaya operasional\n",
    "\n",
    "# Menghitung skor untuk setiap interface\n",
    "df3['Score'] = (df3['Engagement'] * weight_engagement) - (df3['Cost_Per_User'] * weight_cost)\n",
    "\n",
    "# Menentukan interface dengan skor tertinggi\n",
    "recommended_interface = df3.loc[df3['Score'].idxmax(), 'Interface']"
   ]
  },
  {
   "cell_type": "code",
   "execution_count": 145,
   "metadata": {},
   "outputs": [
    {
     "data": {
      "text/html": [
       "<div>\n",
       "<style scoped>\n",
       "    .dataframe tbody tr th:only-of-type {\n",
       "        vertical-align: middle;\n",
       "    }\n",
       "\n",
       "    .dataframe tbody tr th {\n",
       "        vertical-align: top;\n",
       "    }\n",
       "\n",
       "    .dataframe thead th {\n",
       "        text-align: right;\n",
       "    }\n",
       "</style>\n",
       "<table border=\"1\" class=\"dataframe\">\n",
       "  <thead>\n",
       "    <tr style=\"text-align: right;\">\n",
       "      <th></th>\n",
       "      <th>Interface</th>\n",
       "      <th>Total_Users</th>\n",
       "      <th>Active_Users</th>\n",
       "      <th>Cost_Per_User</th>\n",
       "      <th>Engagement</th>\n",
       "      <th>Profit_Per_User</th>\n",
       "      <th>Total_Cost</th>\n",
       "      <th>Total_Profit</th>\n",
       "      <th>Net_Profit</th>\n",
       "      <th>ROI</th>\n",
       "      <th>Score</th>\n",
       "    </tr>\n",
       "  </thead>\n",
       "  <tbody>\n",
       "    <tr>\n",
       "      <th>0</th>\n",
       "      <td>X</td>\n",
       "      <td>2500</td>\n",
       "      <td>729</td>\n",
       "      <td>25</td>\n",
       "      <td>0.291600</td>\n",
       "      <td>17.5</td>\n",
       "      <td>62500</td>\n",
       "      <td>12757.5</td>\n",
       "      <td>-49742.5</td>\n",
       "      <td>-0.795880</td>\n",
       "      <td>-9.825040</td>\n",
       "    </tr>\n",
       "    <tr>\n",
       "      <th>1</th>\n",
       "      <td>Y</td>\n",
       "      <td>2200</td>\n",
       "      <td>802</td>\n",
       "      <td>32</td>\n",
       "      <td>0.364545</td>\n",
       "      <td>17.5</td>\n",
       "      <td>70400</td>\n",
       "      <td>14035.0</td>\n",
       "      <td>-56365.0</td>\n",
       "      <td>-0.800639</td>\n",
       "      <td>-12.581273</td>\n",
       "    </tr>\n",
       "  </tbody>\n",
       "</table>\n",
       "</div>"
      ],
      "text/plain": [
       "  Interface  Total_Users  Active_Users  Cost_Per_User  Engagement  \\\n",
       "0         X         2500           729             25    0.291600   \n",
       "1         Y         2200           802             32    0.364545   \n",
       "\n",
       "   Profit_Per_User  Total_Cost  Total_Profit  Net_Profit       ROI      Score  \n",
       "0             17.5       62500       12757.5    -49742.5 -0.795880  -9.825040  \n",
       "1             17.5       70400       14035.0    -56365.0 -0.800639 -12.581273  "
      ]
     },
     "execution_count": 145,
     "metadata": {},
     "output_type": "execute_result"
    }
   ],
   "source": [
    "df3"
   ]
  },
  {
   "cell_type": "code",
   "execution_count": 146,
   "metadata": {},
   "outputs": [
    {
     "name": "stdout",
     "output_type": "stream",
     "text": [
      "Rekomendasi Berdasarkan ROI: Gunakan Interface X\n",
      "Rekomendasi Berdasdarkan Weight Score: Gunakan Interface X\n"
     ]
    }
   ],
   "source": [
    "print(\"Rekomendasi Berdasarkan ROI: Gunakan Interface\", recommendation)\n",
    "\n",
    "print(\"Rekomendasi Berdasdarkan Weight Score: Gunakan Interface\", recommended_interface)"
   ]
  }
 ],
 "metadata": {
  "kernelspec": {
   "display_name": "tf",
   "language": "python",
   "name": "python3"
  },
  "language_info": {
   "codemirror_mode": {
    "name": "ipython",
    "version": 3
   },
   "file_extension": ".py",
   "mimetype": "text/x-python",
   "name": "python",
   "nbconvert_exporter": "python",
   "pygments_lexer": "ipython3",
   "version": "3.9.18"
  }
 },
 "nbformat": 4,
 "nbformat_minor": 2
}
