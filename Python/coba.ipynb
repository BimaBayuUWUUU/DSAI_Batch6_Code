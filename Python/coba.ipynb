{
 "cells": [
  {
   "cell_type": "code",
   "execution_count": null,
   "metadata": {},
   "outputs": [],
   "source": [
    "from sklearn.model_selection import train_test_split\n",
    "from sklearn.multioutput import MultiOutputClassifier\n",
    "from sklearn.tree import DecisionTreeClassifier\n",
    "from sklearn.metrics import accuracy_score\n",
    "import pandas as pd\n",
    "\n",
    "# Data contoh\n",
    "data = {\n",
    "    'Nama_Barang': ['Laptop Dell', 'Kamera Canon', 'Sepatu Nike', 'Meja Belajar', 'Baju Adidas'],\n",
    "    'Harga': [1000, 500, 120, 150, 50],\n",
    "    'Deskripsi': ['Laptop dengan prosesor Intel Core i5', 'Kamera DSLR dengan resolusi tinggi', \n",
    "                  'Sepatu olahraga berkualitas tinggi', 'Meja kayu dengan desain minimalis', \n",
    "                  'Kaos berbahan katun'],\n",
    "    'Label_1': ['Elektronik', 'Elektronik', 'Fashion', 'Furniture', 'Fashion'],\n",
    "    'Label_2': ['Laptop', 'Kamera', 'Sepatu', None, 'Baju'],\n",
    "    'Label_3': [None, None, None, None, None]\n",
    "}\n",
    "\n",
    "# Konversi ke DataFrame\n",
    "df = pd.DataFrame(data)\n",
    "\n",
    "# Pisahkan fitur dan label\n",
    "X = df[['Harga']]  # Misalnya, kita menggunakan harga sebagai fitur\n",
    "y = df[['Label_1', 'Label_2', 'Label_3']]\n",
    "\n",
    "# Bagi data menjadi data latih dan data uji\n",
    "X_train, X_test, y_train, y_test = train_test_split(X, y, test_size=0.2, random_state=42)\n",
    "\n",
    "# Buat model Decision Tree\n",
    "model = MultiOutputClassifier(DecisionTreeClassifier())\n",
    "\n",
    "# Latih model\n",
    "model.fit(X_train, y_train)\n",
    "\n",
    "# Lakukan prediksi\n",
    "y_pred = model.predict(X_test)\n",
    "\n",
    "# Evaluasi akurasi\n",
    "accuracy = accuracy_score(y_test, y_pred)\n",
    "print(\"Akurasi:\", accuracy)"
   ]
  }
 ],
 "metadata": {
  "kernelspec": {
   "display_name": "tf",
   "language": "python",
   "name": "python3"
  },
  "language_info": {
   "codemirror_mode": {
    "name": "ipython",
    "version": 3
   },
   "file_extension": ".py",
   "mimetype": "text/x-python",
   "name": "python",
   "nbconvert_exporter": "python",
   "pygments_lexer": "ipython3",
   "version": "3.9.18"
  }
 },
 "nbformat": 4,
 "nbformat_minor": 2
}
