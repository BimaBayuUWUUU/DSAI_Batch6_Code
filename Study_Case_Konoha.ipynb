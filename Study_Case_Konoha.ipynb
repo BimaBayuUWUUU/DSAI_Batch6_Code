{
 "cells": [
  {
   "cell_type": "code",
   "execution_count": 1,
   "metadata": {},
   "outputs": [],
   "source": [
    "import pandas as pd\n",
    "from scipy.stats import chi2_contingency"
   ]
  },
  {
   "cell_type": "code",
   "execution_count": 2,
   "metadata": {},
   "outputs": [],
   "source": [
    "# Membuat data frame dari data yang diberikan\n",
    "data = {'Interface': ['X', 'Y'],\n",
    "        'Total Users': [2500, 2200],\n",
    "        'Active Users': [729, 802],\n",
    "        'Inactive Users': [2500 - 729, 2200 - 802]}\n",
    "df = pd.DataFrame(data)"
   ]
  },
  {
   "cell_type": "code",
   "execution_count": 3,
   "metadata": {},
   "outputs": [
    {
     "name": "stdout",
     "output_type": "stream",
     "text": [
      "Data Frame:\n",
      "  Interface  Total Users  Active Users  Inactive Users\n",
      "0         X         2500           729            1771\n",
      "1         Y         2200           802            1398\n"
     ]
    }
   ],
   "source": [
    "# Menampilkan data frame\n",
    "print(\"Data Frame:\")\n",
    "print(df)"
   ]
  },
  {
   "cell_type": "code",
   "execution_count": 4,
   "metadata": {},
   "outputs": [],
   "source": [
    "# Menentukan tabel kontingensi\n",
    "observed = df[['Active Users', 'Inactive Users']].values"
   ]
  },
  {
   "cell_type": "code",
   "execution_count": 5,
   "metadata": {},
   "outputs": [],
   "source": [
    "# Melakukan uji chi-square\n",
    "chi2, p, dof, expected = chi2_contingency(observed)"
   ]
  },
  {
   "cell_type": "code",
   "execution_count": 6,
   "metadata": {},
   "outputs": [
    {
     "name": "stdout",
     "output_type": "stream",
     "text": [
      "\n",
      "Nilai chi-square: 28.01927742721826\n",
      "P-value: 1.2011293328108103e-07\n",
      "Derajat kebebasan: 1\n",
      "Ekspektasi:\n",
      "           Active Users  Inactive Users\n",
      "Interface                              \n",
      "X            814.361702     1685.638298\n",
      "Y            716.638298     1483.361702\n"
     ]
    }
   ],
   "source": [
    "# Menampilkan hasil\n",
    "print(\"\\nNilai chi-square:\", chi2)\n",
    "print(\"P-value:\", p)\n",
    "print(\"Derajat kebebasan:\", dof)\n",
    "print(\"Ekspektasi:\")\n",
    "print(pd.DataFrame(expected, columns=['Active Users', 'Inactive Users'], index=df['Interface']))"
   ]
  },
  {
   "cell_type": "code",
   "execution_count": 7,
   "metadata": {},
   "outputs": [
    {
     "name": "stdout",
     "output_type": "stream",
     "text": [
      "\n",
      "Terdapat hubungan yang signifikan antara skenario interface dan proporsi pengguna yang aktif menggunakan fitur 'Kegiatan Klan'.\n"
     ]
    }
   ],
   "source": [
    "# Menginterpretasi hasil\n",
    "alpha = 0.05\n",
    "if p < alpha:\n",
    "    print(\"\\nTerdapat hubungan yang signifikan antara skenario interface dan proporsi pengguna yang aktif menggunakan fitur 'Kegiatan Klan'.\")\n",
    "else:\n",
    "    print(\"\\nTidak cukup bukti untuk menyimpulkan adanya hubungan yang signifikan antara skenario interface dan proporsi pengguna yang aktif menggunakan fitur 'Kegiatan Klan'.\")"
   ]
  }
 ],
 "metadata": {
  "kernelspec": {
   "display_name": "tf",
   "language": "python",
   "name": "python3"
  },
  "language_info": {
   "codemirror_mode": {
    "name": "ipython",
    "version": 3
   },
   "file_extension": ".py",
   "mimetype": "text/x-python",
   "name": "python",
   "nbconvert_exporter": "python",
   "pygments_lexer": "ipython3",
   "version": "3.9.18"
  }
 },
 "nbformat": 4,
 "nbformat_minor": 2
}
